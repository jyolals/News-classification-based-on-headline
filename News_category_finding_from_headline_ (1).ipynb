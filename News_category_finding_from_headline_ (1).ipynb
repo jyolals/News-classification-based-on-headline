{
  "nbformat": 4,
  "nbformat_minor": 0,
  "metadata": {
    "colab": {
      "name": "News category finding from headline .ipynb",
      "provenance": [],
      "collapsed_sections": []
    },
    "kernelspec": {
      "name": "python3",
      "display_name": "Python 3"
    },
    "accelerator": "GPU"
  },
  "cells": [
    {
      "cell_type": "code",
      "metadata": {
        "id": "gnwiOnGyW5JK",
        "colab_type": "code",
        "outputId": "df2d2f3f-ef4a-4235-cb3d-7af4f40c4388",
        "colab": {
          "base_uri": "https://localhost:8080/",
          "height": 217
        }
      },
      "source": [
        "from sklearn.model_selection import train_test_split\n",
        "import pandas as pd\n",
        "import tensorflow as tf\n",
        "import numpy as np\n",
        "from tensorflow.keras.preprocessing.text import Tokenizer\n",
        "from tensorflow.keras.preprocessing.sequence import pad_sequences\n",
        "\n",
        "!wget --no-check-certificate \\\n",
        "    https://storage.googleapis.com/laurencemoroney-blog.appspot.com/bbc-text.csv \\\n",
        "    -O /tmp/bbc-text.csv"
      ],
      "execution_count": 95,
      "outputs": [
        {
          "output_type": "stream",
          "text": [
            "--2019-11-28 08:38:26--  https://storage.googleapis.com/laurencemoroney-blog.appspot.com/bbc-text.csv\n",
            "Resolving storage.googleapis.com (storage.googleapis.com)... 108.177.111.128, 2607:f8b0:4001:c07::80\n",
            "Connecting to storage.googleapis.com (storage.googleapis.com)|108.177.111.128|:443... connected.\n",
            "HTTP request sent, awaiting response... 200 OK\n",
            "Length: 5057493 (4.8M) [application/octet-stream]\n",
            "Saving to: ‘/tmp/bbc-text.csv’\n",
            "\n",
            "\r/tmp/bbc-text.csv     0%[                    ]       0  --.-KB/s               \r/tmp/bbc-text.csv   100%[===================>]   4.82M  --.-KB/s    in 0.05s   \n",
            "\n",
            "2019-11-28 08:38:27 (103 MB/s) - ‘/tmp/bbc-text.csv’ saved [5057493/5057493]\n",
            "\n"
          ],
          "name": "stdout"
        }
      ]
    },
    {
      "cell_type": "code",
      "metadata": {
        "id": "EYo6A4v5ZABQ",
        "colab_type": "code",
        "colab": {}
      },
      "source": [
        "vocab_size = 1000\n",
        "embedding_dim = 16\n",
        "max_length = 120\n",
        "trunc_type = 'post'\n",
        "padding_type = 'post'\n",
        "oov_tok = 'OOV'\n",
        "training_portion = .8"
      ],
      "execution_count": 0,
      "outputs": []
    },
    {
      "cell_type": "code",
      "metadata": {
        "id": "muEo3zIPgREy",
        "colab_type": "code",
        "colab": {}
      },
      "source": [
        "data = pd.read_csv(\"/tmp/bbc-text.csv\")"
      ],
      "execution_count": 0,
      "outputs": []
    },
    {
      "cell_type": "code",
      "metadata": {
        "id": "O9hz1ftlgq2t",
        "colab_type": "code",
        "outputId": "f1f8dec6-bf01-4980-f6af-6fe7bae76503",
        "colab": {
          "base_uri": "https://localhost:8080/",
          "height": 108
        }
      },
      "source": [
        "data.head(2)"
      ],
      "execution_count": 98,
      "outputs": [
        {
          "output_type": "execute_result",
          "data": {
            "text/html": [
              "<div>\n",
              "<style scoped>\n",
              "    .dataframe tbody tr th:only-of-type {\n",
              "        vertical-align: middle;\n",
              "    }\n",
              "\n",
              "    .dataframe tbody tr th {\n",
              "        vertical-align: top;\n",
              "    }\n",
              "\n",
              "    .dataframe thead th {\n",
              "        text-align: right;\n",
              "    }\n",
              "</style>\n",
              "<table border=\"1\" class=\"dataframe\">\n",
              "  <thead>\n",
              "    <tr style=\"text-align: right;\">\n",
              "      <th></th>\n",
              "      <th>category</th>\n",
              "      <th>text</th>\n",
              "    </tr>\n",
              "  </thead>\n",
              "  <tbody>\n",
              "    <tr>\n",
              "      <th>0</th>\n",
              "      <td>tech</td>\n",
              "      <td>tv future in the hands of viewers with home th...</td>\n",
              "    </tr>\n",
              "    <tr>\n",
              "      <th>1</th>\n",
              "      <td>business</td>\n",
              "      <td>worldcom boss  left books alone  former worldc...</td>\n",
              "    </tr>\n",
              "  </tbody>\n",
              "</table>\n",
              "</div>"
            ],
            "text/plain": [
              "   category                                               text\n",
              "0      tech  tv future in the hands of viewers with home th...\n",
              "1  business  worldcom boss  left books alone  former worldc..."
            ]
          },
          "metadata": {
            "tags": []
          },
          "execution_count": 98
        }
      ]
    },
    {
      "cell_type": "code",
      "metadata": {
        "id": "-6hZLC1whCUY",
        "colab_type": "code",
        "colab": {}
      },
      "source": [
        "train_sentences, validation_sentences, train_labels, validation_labels = train_test_split (data['text'],data['category'],test_size = 1- training_portion, random_state = 0)"
      ],
      "execution_count": 0,
      "outputs": []
    },
    {
      "cell_type": "code",
      "metadata": {
        "id": "XfdaWh06ZGe3",
        "colab_type": "code",
        "outputId": "e732e039-cf94-42d1-993b-7cf426afc10d",
        "colab": {
          "base_uri": "https://localhost:8080/",
          "height": 108
        }
      },
      "source": [
        "print(train_size)\n",
        "print(len(train_sentences))\n",
        "print(len(train_labels))\n",
        "print(len(validation_sentences))\n",
        "print(len(validation_labels))\n"
      ],
      "execution_count": 100,
      "outputs": [
        {
          "output_type": "stream",
          "text": [
            "1780.0\n",
            "1780\n",
            "1780\n",
            "445\n",
            "445\n"
          ],
          "name": "stdout"
        }
      ]
    },
    {
      "cell_type": "markdown",
      "metadata": {
        "id": "cvgeJObfMaQj",
        "colab_type": "text"
      },
      "source": [
        "Converting the inputs to numpy array for Tokenizer"
      ]
    },
    {
      "cell_type": "code",
      "metadata": {
        "id": "L2_shqMfMCBR",
        "colab_type": "code",
        "colab": {
          "base_uri": "https://localhost:8080/",
          "height": 235
        },
        "outputId": "3474732c-4a0c-47be-d7de-49e187856380"
      },
      "source": [
        "print (train_sentences)"
      ],
      "execution_count": 101,
      "outputs": [
        {
          "output_type": "stream",
          "text": [
            "841     dominici backs lacklustre france wing christop...\n",
            "1748    id theft surge hits us consumers almost a quar...\n",
            "2118    blair  pressing us on climate  tony blair is p...\n",
            "1174    what really divides the parties so what is the...\n",
            "1502    iran budget seeks state sell-offs iran s presi...\n",
            "                              ...                        \n",
            "1033    labour s  eu propaganda  a  taxpayer subsidise...\n",
            "1731    crossrail link  to get go-ahead  the £10bn cro...\n",
            "763     shares rise on new man utd offer shares in man...\n",
            "835     rock star sued by ex-girlfriend motley crue gu...\n",
            "1653    file-swappers ready new network legal attacks ...\n",
            "Name: text, Length: 1780, dtype: object\n"
          ],
          "name": "stdout"
        }
      ]
    },
    {
      "cell_type": "code",
      "metadata": {
        "id": "ULzA8xhwZI22",
        "colab_type": "code",
        "outputId": "85796b55-37c2-4202-f780-c8ad0434f1c4",
        "colab": {
          "base_uri": "https://localhost:8080/",
          "height": 126
        }
      },
      "source": [
        "tokenizer = Tokenizer(num_words = vocab_size, oov_token = oov_tok)\n",
        "tokenizer.fit_on_texts(train_sentences)\n",
        "word_index = tokenizer.word_index\n",
        "\n",
        "train_sequences = tokenizer.texts_to_sequences(train_sentences)\n",
        "train_padded = pad_sequences(train_sequences, maxlen=max_length, padding=padding_type, truncating= trunc_type )\n",
        "\n",
        "print(len(train_sequences[0]))\n",
        "print(len(train_padded[0]))\n",
        "\n",
        "print(len(train_sequences[1]))\n",
        "print(len(train_padded[1]))\n",
        "\n",
        "print(len(train_sequences[10]))\n",
        "print(len(train_padded[10]))\n"
      ],
      "execution_count": 102,
      "outputs": [
        {
          "output_type": "stream",
          "text": [
            "321\n",
            "120\n",
            "261\n",
            "120\n",
            "528\n",
            "120\n"
          ],
          "name": "stdout"
        }
      ]
    },
    {
      "cell_type": "code",
      "metadata": {
        "id": "c8PeFWzPZLW_",
        "colab_type": "code",
        "colab": {
          "base_uri": "https://localhost:8080/",
          "height": 54
        },
        "outputId": "48d1cb31-916e-419f-8698-2222007e123e"
      },
      "source": [
        "validation_sequences = tokenizer.texts_to_sequences(validation_sentences)\n",
        "validation_padded = pad_sequences(validation_sequences, maxlen=max_length, padding=padding_type, truncating= trunc_type )\n",
        "\n",
        "print(len(validation_sequences))\n",
        "print(validation_padded.shape)\n"
      ],
      "execution_count": 103,
      "outputs": [
        {
          "output_type": "stream",
          "text": [
            "445\n",
            "(445, 120)\n"
          ],
          "name": "stdout"
        }
      ]
    },
    {
      "cell_type": "code",
      "metadata": {
        "colab_type": "code",
        "outputId": "55e2f463-4062-4046-db6d-71c2b337db94",
        "id": "f4IdbLXFYYhm",
        "colab": {
          "base_uri": "https://localhost:8080/",
          "height": 181
        }
      },
      "source": [
        "label_tokenizer = Tokenizer()\n",
        "label_tokenizer.fit_on_texts(data['category'])\n",
        "\n",
        "word_index_label = label_tokenizer.word_index\n",
        "\n",
        "training_label_seq = np.array(label_tokenizer.texts_to_sequences(train_labels))\n",
        "validation_label_seq = np.array(label_tokenizer.texts_to_sequences(validation_labels))\n",
        "\n",
        "print(training_label_seq[0])\n",
        "print(training_label_seq[1])\n",
        "print(training_label_seq[2])\n",
        "print(training_label_seq.shape)\n",
        "\n",
        "print(validation_label_seq[0])\n",
        "print(validation_label_seq[1])\n",
        "print(validation_label_seq[2])\n",
        "print(validation_label_seq.shape)\n",
        "\n",
        "print(word_index_label)\n"
      ],
      "execution_count": 104,
      "outputs": [
        {
          "output_type": "stream",
          "text": [
            "[1]\n",
            "[2]\n",
            "[3]\n",
            "(1780, 1)\n",
            "[3]\n",
            "[1]\n",
            "[1]\n",
            "(445, 1)\n",
            "{'sport': 1, 'business': 2, 'politics': 3, 'tech': 4, 'entertainment': 5}\n"
          ],
          "name": "stdout"
        }
      ]
    },
    {
      "cell_type": "code",
      "metadata": {
        "id": "HZ5um4MWZP-W",
        "colab_type": "code",
        "colab": {
          "base_uri": "https://localhost:8080/",
          "height": 308
        },
        "outputId": "dfbf1b82-4e4a-42d7-c466-9a2687053dba"
      },
      "source": [
        "model = tf.keras.Sequential([\n",
        "                             tf.keras.layers.Embedding(vocab_size,embedding_dim,input_length= max_length),\n",
        "                             tf.keras.layers.GlobalAveragePooling1D(),\n",
        "                             tf.keras.layers.Dense(24 , 'relu'),\n",
        "                             tf.keras.layers.Dense(6, 'softmax')\n",
        "])\n",
        "model.compile(loss='sparse_categorical_crossentropy',optimizer='adam',metrics=['accuracy'])\n",
        "model.summary()"
      ],
      "execution_count": 105,
      "outputs": [
        {
          "output_type": "stream",
          "text": [
            "Model: \"sequential_1\"\n",
            "_________________________________________________________________\n",
            "Layer (type)                 Output Shape              Param #   \n",
            "=================================================================\n",
            "embedding_1 (Embedding)      (None, 120, 16)           16000     \n",
            "_________________________________________________________________\n",
            "global_average_pooling1d_1 ( (None, 16)                0         \n",
            "_________________________________________________________________\n",
            "dense_2 (Dense)              (None, 24)                408       \n",
            "_________________________________________________________________\n",
            "dense_3 (Dense)              (None, 6)                 150       \n",
            "=================================================================\n",
            "Total params: 16,558\n",
            "Trainable params: 16,558\n",
            "Non-trainable params: 0\n",
            "_________________________________________________________________\n"
          ],
          "name": "stdout"
        }
      ]
    },
    {
      "cell_type": "code",
      "metadata": {
        "id": "XsfdxySKZSXu",
        "colab_type": "code",
        "colab": {
          "base_uri": "https://localhost:8080/",
          "height": 1000
        },
        "outputId": "7053641c-3e24-4059-f9b4-df6705301697"
      },
      "source": [
        "num_epochs = 30\n",
        "history = model.fit(train_padded,training_label_seq, epochs=num_epochs, validation_data=(validation_padded,validation_label_seq))"
      ],
      "execution_count": 106,
      "outputs": [
        {
          "output_type": "stream",
          "text": [
            "Train on 1780 samples, validate on 445 samples\n",
            "Epoch 1/30\n",
            "1780/1780 [==============================] - 0s 207us/sample - loss: 1.7665 - acc: 0.2000 - val_loss: 1.7343 - val_acc: 0.2022\n",
            "Epoch 2/30\n",
            "1780/1780 [==============================] - 0s 132us/sample - loss: 1.6938 - acc: 0.3506 - val_loss: 1.6552 - val_acc: 0.3213\n",
            "Epoch 3/30\n",
            "1780/1780 [==============================] - 0s 138us/sample - loss: 1.6043 - acc: 0.4315 - val_loss: 1.5553 - val_acc: 0.6202\n",
            "Epoch 4/30\n",
            "1780/1780 [==============================] - 0s 144us/sample - loss: 1.4875 - acc: 0.6433 - val_loss: 1.4232 - val_acc: 0.6337\n",
            "Epoch 5/30\n",
            "1780/1780 [==============================] - 0s 139us/sample - loss: 1.3372 - acc: 0.6556 - val_loss: 1.2516 - val_acc: 0.7506\n",
            "Epoch 6/30\n",
            "1780/1780 [==============================] - 0s 149us/sample - loss: 1.1503 - acc: 0.7826 - val_loss: 1.0639 - val_acc: 0.8022\n",
            "Epoch 7/30\n",
            "1780/1780 [==============================] - 0s 148us/sample - loss: 0.9623 - acc: 0.8421 - val_loss: 0.8774 - val_acc: 0.8697\n",
            "Epoch 8/30\n",
            "1780/1780 [==============================] - 0s 148us/sample - loss: 0.7929 - acc: 0.8758 - val_loss: 0.7270 - val_acc: 0.9034\n",
            "Epoch 9/30\n",
            "1780/1780 [==============================] - 0s 147us/sample - loss: 0.6551 - acc: 0.8994 - val_loss: 0.6059 - val_acc: 0.9169\n",
            "Epoch 10/30\n",
            "1780/1780 [==============================] - 0s 135us/sample - loss: 0.5496 - acc: 0.9163 - val_loss: 0.5158 - val_acc: 0.9169\n",
            "Epoch 11/30\n",
            "1780/1780 [==============================] - 0s 132us/sample - loss: 0.4628 - acc: 0.9230 - val_loss: 0.4385 - val_acc: 0.9258\n",
            "Epoch 12/30\n",
            "1780/1780 [==============================] - 0s 133us/sample - loss: 0.3918 - acc: 0.9382 - val_loss: 0.3792 - val_acc: 0.9258\n",
            "Epoch 13/30\n",
            "1780/1780 [==============================] - 0s 140us/sample - loss: 0.3348 - acc: 0.9433 - val_loss: 0.3329 - val_acc: 0.9371\n",
            "Epoch 14/30\n",
            "1780/1780 [==============================] - 0s 136us/sample - loss: 0.2916 - acc: 0.9466 - val_loss: 0.2983 - val_acc: 0.9326\n",
            "Epoch 15/30\n",
            "1780/1780 [==============================] - 0s 140us/sample - loss: 0.2559 - acc: 0.9489 - val_loss: 0.2717 - val_acc: 0.9438\n",
            "Epoch 16/30\n",
            "1780/1780 [==============================] - 0s 132us/sample - loss: 0.2279 - acc: 0.9584 - val_loss: 0.2482 - val_acc: 0.9483\n",
            "Epoch 17/30\n",
            "1780/1780 [==============================] - 0s 142us/sample - loss: 0.2045 - acc: 0.9624 - val_loss: 0.2300 - val_acc: 0.9551\n",
            "Epoch 18/30\n",
            "1780/1780 [==============================] - 0s 142us/sample - loss: 0.1829 - acc: 0.9680 - val_loss: 0.2158 - val_acc: 0.9528\n",
            "Epoch 19/30\n",
            "1780/1780 [==============================] - 0s 143us/sample - loss: 0.1659 - acc: 0.9713 - val_loss: 0.2023 - val_acc: 0.9596\n",
            "Epoch 20/30\n",
            "1780/1780 [==============================] - 0s 131us/sample - loss: 0.1502 - acc: 0.9736 - val_loss: 0.1913 - val_acc: 0.9596\n",
            "Epoch 21/30\n",
            "1780/1780 [==============================] - 0s 141us/sample - loss: 0.1364 - acc: 0.9781 - val_loss: 0.1843 - val_acc: 0.9506\n",
            "Epoch 22/30\n",
            "1780/1780 [==============================] - 0s 136us/sample - loss: 0.1247 - acc: 0.9798 - val_loss: 0.1739 - val_acc: 0.9573\n",
            "Epoch 23/30\n",
            "1780/1780 [==============================] - 0s 129us/sample - loss: 0.1144 - acc: 0.9826 - val_loss: 0.1679 - val_acc: 0.9573\n",
            "Epoch 24/30\n",
            "1780/1780 [==============================] - 0s 133us/sample - loss: 0.1051 - acc: 0.9854 - val_loss: 0.1613 - val_acc: 0.9528\n",
            "Epoch 25/30\n",
            "1780/1780 [==============================] - 0s 141us/sample - loss: 0.0958 - acc: 0.9882 - val_loss: 0.1576 - val_acc: 0.9618\n",
            "Epoch 26/30\n",
            "1780/1780 [==============================] - 0s 145us/sample - loss: 0.0881 - acc: 0.9893 - val_loss: 0.1531 - val_acc: 0.9551\n",
            "Epoch 27/30\n",
            "1780/1780 [==============================] - 0s 128us/sample - loss: 0.0806 - acc: 0.9916 - val_loss: 0.1489 - val_acc: 0.9596\n",
            "Epoch 28/30\n",
            "1780/1780 [==============================] - 0s 137us/sample - loss: 0.0744 - acc: 0.9927 - val_loss: 0.1449 - val_acc: 0.9573\n",
            "Epoch 29/30\n",
            "1780/1780 [==============================] - 0s 145us/sample - loss: 0.0684 - acc: 0.9938 - val_loss: 0.1442 - val_acc: 0.9618\n",
            "Epoch 30/30\n",
            "1780/1780 [==============================] - 0s 131us/sample - loss: 0.0633 - acc: 0.9961 - val_loss: 0.1397 - val_acc: 0.9596\n"
          ],
          "name": "stdout"
        }
      ]
    },
    {
      "cell_type": "code",
      "metadata": {
        "id": "dQ0BX2apXS9u",
        "colab_type": "code",
        "colab": {
          "base_uri": "https://localhost:8080/",
          "height": 541
        },
        "outputId": "869faa60-fd30-4833-9ce0-17f162d525f4"
      },
      "source": [
        "import matplotlib.pyplot as plt\n",
        "\n",
        "\n",
        "def plot_graphs(history, string):\n",
        "  plt.plot(history.history[string])\n",
        "  plt.plot(history.history['val_'+string])\n",
        "  plt.xlabel(\"Epochs\")\n",
        "  plt.ylabel(string)\n",
        "  plt.legend([string, 'val_'+string])\n",
        "  plt.show()\n",
        "  \n",
        "plot_graphs(history, \"acc\")\n",
        "plot_graphs(history, \"loss\")"
      ],
      "execution_count": 107,
      "outputs": [
        {
          "output_type": "display_data",
          "data": {
            "image/png": "[encoded data removed]",
            "text/plain": [
              "<Figure size 432x288 with 1 Axes>"
            ]
          },
          "metadata": {
            "tags": []
          }
        },
        {
          "output_type": "display_data",
          "data": {
            "image/png": "[encoded data removed]",
            "text/plain": [
              "<Figure size 432x288 with 1 Axes>"
            ]
          },
          "metadata": {
            "tags": []
          }
        }
      ]
    },
    {
      "cell_type": "code",
      "metadata": {
        "id": "w7Xc-uWxXhML",
        "colab_type": "code",
        "colab": {}
      },
      "source": [
        "reverse_word_index = dict([(value, key) for (key, value) in word_index.items()])\n",
        "\n",
        "def decode_sentence(text):\n",
        "    return ' '.join([reverse_word_index.get(i, '?') for i in text])\n"
      ],
      "execution_count": 0,
      "outputs": []
    },
    {
      "cell_type": "code",
      "metadata": {
        "id": "OhnFA_TDXrih",
        "colab_type": "code",
        "colab": {
          "base_uri": "https://localhost:8080/",
          "height": 35
        },
        "outputId": "380ae572-acbe-4c12-c73f-cf274de497f2"
      },
      "source": [
        "e = model.layers[0]\n",
        "weights = e.get_weights()[0]\n",
        "print(weights.shape) # shape: (vocab_size, embedding_dim)\n",
        "\n",
        "# Expected output\n",
        "# (1000, 16)"
      ],
      "execution_count": 109,
      "outputs": [
        {
          "output_type": "stream",
          "text": [
            "(1000, 16)\n"
          ],
          "name": "stdout"
        }
      ]
    },
    {
      "cell_type": "markdown",
      "metadata": {
        "id": "XG25DzPi7FDp",
        "colab_type": "text"
      },
      "source": [
        "To create word vector & meta data for Embedding projector"
      ]
    },
    {
      "cell_type": "code",
      "metadata": {
        "id": "_POzcWWAXudL",
        "colab_type": "code",
        "colab": {}
      },
      "source": [
        "import io\n",
        "\n",
        "out_v = io.open('vecs_bbc.tsv', 'w', encoding='utf-8')\n",
        "out_m = io.open('meta_bbc.tsv', 'w', encoding='utf-8')\n",
        "for word_num in range(1, vocab_size):\n",
        "  word = reverse_word_index[word_num]\n",
        "  embeddings = weights[word_num]\n",
        "  out_m.write(word + \"\\n\")\n",
        "  out_v.write('\\t'.join([str(x) for x in embeddings]) + \"\\n\")\n",
        "out_v.close()\n",
        "out_m.close()"
      ],
      "execution_count": 0,
      "outputs": []
    },
    {
      "cell_type": "code",
      "metadata": {
        "id": "VmqpQMZ_XyOa",
        "colab_type": "code",
        "colab": {}
      },
      "source": [
        "try:\n",
        "  from google.colab import files\n",
        "except ImportError:\n",
        "  pass\n",
        "else:\n",
        "  files.download('vecs_bbc.tsv')\n",
        "  files.download('meta_bbc.tsv')"
      ],
      "execution_count": 0,
      "outputs": []
    },
    {
      "cell_type": "code",
      "metadata": {
        "id": "iKQr0J2YNKsN",
        "colab_type": "code",
        "colab": {
          "base_uri": "https://localhost:8080/",
          "height": 54
        },
        "outputId": "de112f29-f54a-4875-b9cd-5674dda69468"
      },
      "source": [
        "check = ['Brokers cannot misuse client securities, says Tyagi']\n",
        "\n",
        "check_sequences = tokenizer.texts_to_sequences(check)\n",
        "check_padded = pad_sequences(check_sequences, maxlen=max_length, padding=padding_type, truncating= trunc_type )\n",
        "\n",
        "print(len(check_sequences))\n",
        "print(check_padded.shape)"
      ],
      "execution_count": 125,
      "outputs": [
        {
          "output_type": "stream",
          "text": [
            "1\n",
            "(1, 120)\n"
          ],
          "name": "stdout"
        }
      ]
    },
    {
      "cell_type": "code",
      "metadata": {
        "id": "hgxpwr96NG8q",
        "colab_type": "code",
        "colab": {}
      },
      "source": [
        "y_red = model.predict(check_padded)"
      ],
      "execution_count": 0,
      "outputs": []
    },
    {
      "cell_type": "code",
      "metadata": {
        "id": "O6PNjcV2Pmiv",
        "colab_type": "code",
        "colab": {
          "base_uri": "https://localhost:8080/",
          "height": 35
        },
        "outputId": "b8991f9a-c1e1-4eae-a974-39bb8f2df579"
      },
      "source": [
        "prediction = y_red > 0.5\n",
        "\n",
        "print(prediction)"
      ],
      "execution_count": 129,
      "outputs": [
        {
          "output_type": "stream",
          "text": [
            "[[False False False  True False False]]\n"
          ],
          "name": "stdout"
        }
      ]
    }
  ]
}